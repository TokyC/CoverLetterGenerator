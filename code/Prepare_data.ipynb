{
 "cells": [
  {
   "attachments": {},
   "cell_type": "markdown",
   "id": "a61ccf08",
   "metadata": {},
   "source": [
    "# Import and Package installation"
   ]
  },
  {
   "cell_type": "code",
   "execution_count": 1,
   "id": "68b19862",
   "metadata": {},
   "outputs": [],
   "source": [
    "import pandas as pd\n",
    "import time\n",
    "from transformers import pipeline, AutoTokenizer, TFAutoModelForSeq2SeqLM , TFAutoModelForTokenClassification\n"
   ]
  },
  {
   "attachments": {},
   "cell_type": "markdown",
   "id": "68f7c25b",
   "metadata": {},
   "source": [
    "### Test if transformetrs is installed"
   ]
  },
  {
   "cell_type": "code",
   "execution_count": null,
   "id": "23dbf622",
   "metadata": {},
   "outputs": [],
   "source": [
    "!python -c \"from transformers import pipeline; print(pipeline('sentiment-analysis')('we love you'))\""
   ]
  },
  {
   "attachments": {},
   "cell_type": "markdown",
   "id": "389a03c3",
   "metadata": {},
   "source": [
    "# Create function for feature engineering"
   ]
  },
  {
   "cell_type": "code",
   "execution_count": 3,
   "id": "8eaa1987",
   "metadata": {},
   "outputs": [
    {
     "name": "stderr",
     "output_type": "stream",
     "text": [
      "C:\\Users\\Andriamahefa\\anaconda3\\lib\\site-packages\\transformers\\models\\t5\\tokenization_t5_fast.py:156: FutureWarning: This tokenizer was incorrectly instantiated with a model max length of 512 which will be corrected in Transformers v5.\n",
      "For now, this behavior is kept to avoid breaking backwards compatibility when padding/encoding with `truncation is True`.\n",
      "- Be aware that you SHOULD NOT rely on t5-base automatically truncating your input to 512 when padding/encoding.\n",
      "- If you want to encode/pad to sequences longer than 512 you can either instantiate this tokenizer with `model_max_length` or pass `max_length` when encoding/padding.\n",
      "- To avoid this warning, please instantiate this tokenizer with `model_max_length` set to your preferred value.\n",
      "  warnings.warn(\n",
      "All model checkpoint layers were used when initializing TFT5ForConditionalGeneration.\n",
      "\n",
      "All the layers of TFT5ForConditionalGeneration were initialized from the model checkpoint at t5-base.\n",
      "If your task is similar to the task the model of the checkpoint was trained on, you can already use TFT5ForConditionalGeneration for predictions without further training.\n"
     ]
    }
   ],
   "source": [
    "tokenizer = AutoTokenizer.from_pretrained(\"t5-base\")\n",
    "model = TFAutoModelForSeq2SeqLM.from_pretrained(\"t5-base\")"
   ]
  },
  {
   "attachments": {},
   "cell_type": "markdown",
   "id": "d1dcabd2",
   "metadata": {},
   "source": [
    "### Function to get the name"
   ]
  },
  {
   "cell_type": "code",
   "execution_count": 4,
   "id": "0adf37dc",
   "metadata": {},
   "outputs": [],
   "source": [
    "def get_name(text: str, tokenizer, model) -> str:\n",
    "    input_ids = tokenizer(f\"question: What is my name ? context: {text}\",padding=\"longest\", return_tensors=\"tf\", max_length=4096, truncation=True).input_ids\n",
    "    outputs = model.generate(input_ids)\n",
    "    return tokenizer.decode(outputs[0], skip_special_tokens=True)"
   ]
  },
  {
   "attachments": {},
   "cell_type": "markdown",
   "id": "72b3c65d",
   "metadata": {},
   "source": [
    "### Function to get the skills"
   ]
  },
  {
   "cell_type": "code",
   "execution_count": 5,
   "id": "7cb289e5",
   "metadata": {},
   "outputs": [],
   "source": [
    "def get_skills(text: str, tokenizer, model) -> str:\n",
    "    input_ids = tokenizer(f\"question: What are my skills ? context: {text}\",padding=\"longest\", return_tensors=\"tf\", max_length=4096, truncation=True).input_ids\n",
    "    outputs = model.generate(input_ids)\n",
    "    return tokenizer.decode(outputs[0], skip_special_tokens=True)"
   ]
  },
  {
   "attachments": {},
   "cell_type": "markdown",
   "id": "5cbb3949",
   "metadata": {},
   "source": [
    "### Function to get the background"
   ]
  },
  {
   "cell_type": "code",
   "execution_count": 6,
   "id": "10603dbc",
   "metadata": {},
   "outputs": [],
   "source": [
    "def get_experiences(text: str, tokenizer, model) -> str:\n",
    "    input_ids = tokenizer(f\"question: What are my experiences ? context: {text}\",padding=\"longest\", return_tensors=\"tf\", max_length=4096, truncation=True).input_ids\n",
    "    outputs = model.generate(input_ids)\n",
    "    return tokenizer.decode(outputs[0], skip_special_tokens=True)"
   ]
  },
  {
   "attachments": {},
   "cell_type": "markdown",
   "id": "06f3eeeb",
   "metadata": {},
   "source": [
    "### Function to get the job "
   ]
  },
  {
   "cell_type": "code",
   "execution_count": 7,
   "id": "3c8ab659",
   "metadata": {},
   "outputs": [],
   "source": [
    "def get_job(text: str, tokenizer, model) -> str:\n",
    "    input_ids = tokenizer(f\"question: What is the job he wants to apply? context: {text}\",padding=\"longest\", return_tensors=\"tf\", max_length=4096, truncation=True).input_ids\n",
    "    outputs = model.generate(input_ids)\n",
    "    return tokenizer.decode(outputs[0], skip_special_tokens=True)"
   ]
  },
  {
   "attachments": {},
   "cell_type": "markdown",
   "id": "042bf738",
   "metadata": {},
   "source": [
    "# Import my data"
   ]
  },
  {
   "cell_type": "code",
   "execution_count": 22,
   "id": "f39fe469",
   "metadata": {},
   "outputs": [
    {
     "data": {
      "text/plain": [
       "(1599, 2)"
      ]
     },
     "execution_count": 22,
     "metadata": {},
     "output_type": "execute_result"
    }
   ],
   "source": [
    "df = pd.read_csv(\"data/lettres_motivation.csv\")\n",
    "df.shape"
   ]
  },
  {
   "cell_type": "markdown",
   "id": "5614b25f",
   "metadata": {},
   "source": [
    "We take only the \"lettre\" column"
   ]
  },
  {
   "cell_type": "markdown",
   "id": "db0e3eef",
   "metadata": {},
   "source": []
  },
  {
   "cell_type": "code",
   "execution_count": 23,
   "id": "1f46335d",
   "metadata": {},
   "outputs": [],
   "source": [
    "df_lettre = df[\"lettre\"]"
   ]
  },
  {
   "cell_type": "markdown",
   "id": "10ad75a7",
   "metadata": {},
   "source": []
  },
  {
   "cell_type": "code",
   "execution_count": 24,
   "id": "908b96b7",
   "metadata": {},
   "outputs": [],
   "source": [
    "def get_features(df: pd.DataFrame)->list:\n",
    "    print(\"Get names\")\n",
    "    name = df.apply(lambda row: get_name(row, tokenizer=tokenizer, model=model)).rename(\"name\")\n",
    "    print(\"Get skills\")\n",
    "    skills = df.apply(lambda row: get_skills(row, tokenizer=tokenizer, model=model)).rename(\"skills\")\n",
    "    print(\"get experiences\")\n",
    "    experiences = df.apply(lambda row: get_experiences(row, tokenizer=tokenizer, model=model)).rename(\"exp\")\n",
    "    print(\"get job\")\n",
    "    job = df.apply(lambda row: get_job(row, tokenizer=tokenizer, model=model)).rename(\"job\")\n",
    "    return pd.concat([name,skills,experiences,job], axis=1)\n"
   ]
  },
  {
   "cell_type": "code",
   "execution_count": 25,
   "id": "0517a76f",
   "metadata": {},
   "outputs": [
    {
     "name": "stdout",
     "output_type": "stream",
     "text": [
      "Get names\n"
     ]
    },
    {
     "name": "stderr",
     "output_type": "stream",
     "text": [
      "C:\\Users\\Andriamahefa\\anaconda3\\lib\\site-packages\\transformers\\generation_tf_utils.py:1694: UserWarning: Neither `max_length` nor `max_new_tokens` have been set, `max_length` will default to 20 (`self.config.max_length`). Controlling `max_length` via the config is deprecated and `max_length` will be removed from the config in v5 of Transformers -- we recommend using `max_new_tokens` to control the maximum length of the generation.\n",
      "  warnings.warn(\n"
     ]
    },
    {
     "name": "stdout",
     "output_type": "stream",
     "text": [
      "Get skills\n",
      "get experiences\n"
     ]
    }
   ],
   "source": [
    "features = get_features(df_lettre)\n",
    "display(features)"
   ]
  },
  {
   "cell_type": "code",
   "execution_count": 20,
   "id": "b7585aec",
   "metadata": {},
   "outputs": [],
   "source": [
    "merged = features.merge(df_lettre, right_index=True, left_index=True)"
   ]
  },
  {
   "attachments": {},
   "cell_type": "markdown",
   "id": "982de463",
   "metadata": {},
   "source": [
    "# Save the new Dataframe to local as csv"
   ]
  },
  {
   "cell_type": "code",
   "execution_count": 21,
   "id": "d04f1509",
   "metadata": {},
   "outputs": [],
   "source": [
    "merged.to_csv(\"data/LM_Dataset.csv\", sep=';', index=False)"
   ]
  },
  {
   "cell_type": "code",
   "execution_count": null,
   "id": "6102348b",
   "metadata": {},
   "outputs": [],
   "source": []
  }
 ],
 "metadata": {
  "kernelspec": {
   "display_name": "Python 3 (ipykernel)",
   "language": "python",
   "name": "python3"
  },
  "language_info": {
   "codemirror_mode": {
    "name": "ipython",
    "version": 3
   },
   "file_extension": ".py",
   "mimetype": "text/x-python",
   "name": "python",
   "nbconvert_exporter": "python",
   "pygments_lexer": "ipython3",
   "version": "3.9.13"
  }
 },
 "nbformat": 4,
 "nbformat_minor": 5
}
